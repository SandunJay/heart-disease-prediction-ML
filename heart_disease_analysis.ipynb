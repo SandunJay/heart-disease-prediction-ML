{
 "cells": [
  {
   "cell_type": "code",
   "execution_count": null,
   "id": "504a63b8-16f5-491f-b131-2079f4507730",
   "metadata": {},
   "outputs": [],
   "source": [
    "# Step 1: Import required libraries\n",
    "import pandas as pd\n",
    "import numpy as np\n",
    "import matplotlib.pyplot as plt\n",
    "import seaborn as sns\n",
    "\n",
    "# Step 2: Load the dataset\n",
    "df = pd.read_csv(\"heart.csv\")  # put the CSV file in the same folder as your notebook\n",
    "\n",
    "# Remove rows where Cholesterol is 0\n",
    "df = df[df['Cholesterol'] != 0]\n",
    "\n",
    "# Step 3: Explore the dataset\n",
    "print(\"Shape of dataset:\", df.shape)\n",
    "print(\"First 5 rows:\")\n",
    "print(df.head())\n",
    "\n",
    "# Step 4: Check for missing values\n",
    "print(\"\\nMissing values:\")\n",
    "print(df.isnull().sum())\n",
    "\n",
    "# Step 5: Data types and basic info\n",
    "print(\"\\nInfo:\")\n",
    "print(df.info())\n",
    "\n",
    "# Step 6: Summary statistics\n",
    "print(\"\\nStatistics:\")\n",
    "print(df.describe())\n"
   ]
  },
  {
   "cell_type": "code",
   "execution_count": null,
   "id": "974781a1-00c7-4203-9804-b4f092fc5d69",
   "metadata": {},
   "outputs": [],
   "source": [
    "# Step 1: Encode categorical variables\n",
    "df_encoded = pd.get_dummies(df, drop_first=True)\n",
    "\n",
    "# Step 2: Separate input and output\n",
    "X = df_encoded.drop(\"HeartDisease\", axis=1)\n",
    "y = df_encoded[\"HeartDisease\"]\n",
    "\n",
    "# Step 3: Split into train/test sets\n",
    "from sklearn.model_selection import train_test_split\n",
    "X_train, X_test, y_train, y_test = train_test_split(X, y, test_size=0.2, random_state=42)\n",
    "\n",
    "print(\"Train set size:\", X_train.shape)\n",
    "print(\"Test set size:\", X_test.shape)\n"
   ]
  },
  {
   "cell_type": "code",
   "execution_count": null,
   "id": "969188ab-4370-4e7b-a4a7-02c6c0d7b601",
   "metadata": {},
   "outputs": [],
   "source": [
    "from xgboost import XGBClassifier\n",
    "from sklearn.metrics import classification_report, confusion_matrix, accuracy_score\n",
    "\n",
    "# Step 1: Train model\n",
    "model = XGBClassifier(use_label_encoder=False, eval_metric='logloss')\n",
    "model.fit(X_train, y_train)\n",
    "\n",
    "# Step 2: Predict\n",
    "y_pred = model.predict(X_test)\n",
    "\n",
    "# Step 3: Evaluate\n",
    "print(\"Accuracy:\", accuracy_score(y_test, y_pred))\n",
    "print(\"\\nClassification Report:\")\n",
    "print(classification_report(y_test, y_pred))\n",
    "print(\"\\nConfusion Matrix:\")\n",
    "print(confusion_matrix(y_test, y_pred))\n"
   ]
  },
  {
   "cell_type": "code",
   "execution_count": null,
   "id": "d8c1c613-fc27-46e2-95eb-6ed8c360f0bf",
   "metadata": {},
   "outputs": [],
   "source": [
    "from sklearn.metrics import ConfusionMatrixDisplay\n",
    "\n",
    "# Confusion Matrix Visualization\n",
    "ConfusionMatrixDisplay.from_estimator(model, X_test, y_test)\n",
    "plt.title(\"XGBoost Confusion Matrix\")\n",
    "plt.show()\n"
   ]
  },
  {
   "cell_type": "code",
   "execution_count": null,
   "id": "fc621076-a927-4f60-9544-20b6e05f651d",
   "metadata": {},
   "outputs": [],
   "source": [
    "# Feature Importance\n",
    "importances = model.feature_importances_\n",
    "\n",
    "# Plot feature importance\n",
    "plt.figure(figsize=(10,8))\n",
    "plt.barh(X.columns, importances)\n",
    "plt.title(\"Feature Importance (XGBoost)\")\n",
    "plt.xlabel(\"Importance Score\")\n",
    "plt.ylabel(\"Features\")\n",
    "plt.show()\n"
   ]
  },
  {
   "cell_type": "code",
   "execution_count": null,
   "id": "c4d32b50-3136-4361-bd95-1114e850dad6",
   "metadata": {},
   "outputs": [],
   "source": [
    "# Distribution of Heart Disease (target variable)\n",
    "sns.countplot(x='HeartDisease', data=df)\n",
    "plt.title(\"Distribution of Heart Disease in Dataset\")\n",
    "plt.xlabel(\"Heart Disease (0 = No, 1 = Yes)\")\n",
    "plt.ylabel(\"Number of Patients\")\n",
    "plt.show()\n"
   ]
  },
  {
   "cell_type": "code",
   "execution_count": null,
   "id": "9523534e-849a-4bfa-a4fb-61298cf274ef",
   "metadata": {},
   "outputs": [],
   "source": []
  }
 ],
 "metadata": {
  "kernelspec": {
   "display_name": "Python [conda env:base] *",
   "language": "python",
   "name": "conda-base-py"
  },
  "language_info": {
   "codemirror_mode": {
    "name": "ipython",
    "version": 3
   },
   "file_extension": ".py",
   "mimetype": "text/x-python",
   "name": "python",
   "nbconvert_exporter": "python",
   "pygments_lexer": "ipython3",
   "version": "3.12.7"
  }
 },
 "nbformat": 4,
 "nbformat_minor": 5
}
