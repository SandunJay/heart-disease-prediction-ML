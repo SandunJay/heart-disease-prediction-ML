{
 "cells": [
  {
   "cell_type": "markdown",
   "id": "48602021-c56e-42b5-adf6-0bcc02cad443",
   "metadata": {},
   "source": [
    "1. Importing Libraries"
   ]
  },
  {
   "cell_type": "code",
   "execution_count": 18,
   "id": "0e7cd88d-809f-43ab-91da-8cc215ac894e",
   "metadata": {},
   "outputs": [],
   "source": [
    "# Install if not already installed\n",
    "# !pip install pandas numpy scikit-learn matplotlib seaborn\n",
    "\n",
    "import pandas as pd\n",
    "import numpy as np\n",
    "import matplotlib.pyplot as plt\n",
    "import seaborn as sns\n",
    "\n",
    "from sklearn.model_selection import train_test_split, KFold, cross_val_score\n",
    "from sklearn.preprocessing import StandardScaler, OneHotEncoder\n",
    "from sklearn.impute import SimpleImputer\n",
    "from sklearn.compose import ColumnTransformer\n",
    "from sklearn.pipeline import Pipeline\n",
    "from sklearn.ensemble import RandomForestClassifier\n",
    "from sklearn.metrics import classification_report, confusion_matrix, roc_curve, auc\n",
    "from joblib import dump\n",
    "import warnings\n",
    "\n",
    "warnings.filterwarnings('ignore')  # Ignores warnings for cleaner output\n",
    "\n",
    "# Display settings\n",
    "pd.set_option('display.max_columns', None)\n"
   ]
  },
  {
   "cell_type": "markdown",
   "id": "1a02ed02-0b12-4ac8-ad65-bca823aae743",
   "metadata": {},
   "source": [
    "2. Loading the Dataset"
   ]
  },
  {
   "cell_type": "code",
   "execution_count": 19,
   "id": "22db1d34-aa33-4a10-9908-f47e17e7de7d",
   "metadata": {},
   "outputs": [
    {
     "name": "stdout",
     "output_type": "stream",
     "text": [
      "Dataset shape: (918, 12)\n"
     ]
    },
    {
     "data": {
      "text/html": [
       "<div>\n",
       "<style scoped>\n",
       "    .dataframe tbody tr th:only-of-type {\n",
       "        vertical-align: middle;\n",
       "    }\n",
       "\n",
       "    .dataframe tbody tr th {\n",
       "        vertical-align: top;\n",
       "    }\n",
       "\n",
       "    .dataframe thead th {\n",
       "        text-align: right;\n",
       "    }\n",
       "</style>\n",
       "<table border=\"1\" class=\"dataframe\">\n",
       "  <thead>\n",
       "    <tr style=\"text-align: right;\">\n",
       "      <th></th>\n",
       "      <th>Age</th>\n",
       "      <th>Sex</th>\n",
       "      <th>ChestPainType</th>\n",
       "      <th>RestingBP</th>\n",
       "      <th>Cholesterol</th>\n",
       "      <th>FastingBS</th>\n",
       "      <th>RestingECG</th>\n",
       "      <th>MaxHR</th>\n",
       "      <th>ExerciseAngina</th>\n",
       "      <th>Oldpeak</th>\n",
       "      <th>ST_Slope</th>\n",
       "      <th>HeartDisease</th>\n",
       "    </tr>\n",
       "  </thead>\n",
       "  <tbody>\n",
       "    <tr>\n",
       "      <th>0</th>\n",
       "      <td>40</td>\n",
       "      <td>M</td>\n",
       "      <td>ATA</td>\n",
       "      <td>140</td>\n",
       "      <td>289</td>\n",
       "      <td>0</td>\n",
       "      <td>Normal</td>\n",
       "      <td>172</td>\n",
       "      <td>N</td>\n",
       "      <td>0.0</td>\n",
       "      <td>Up</td>\n",
       "      <td>0</td>\n",
       "    </tr>\n",
       "    <tr>\n",
       "      <th>1</th>\n",
       "      <td>49</td>\n",
       "      <td>F</td>\n",
       "      <td>NAP</td>\n",
       "      <td>160</td>\n",
       "      <td>180</td>\n",
       "      <td>0</td>\n",
       "      <td>Normal</td>\n",
       "      <td>156</td>\n",
       "      <td>N</td>\n",
       "      <td>1.0</td>\n",
       "      <td>Flat</td>\n",
       "      <td>1</td>\n",
       "    </tr>\n",
       "    <tr>\n",
       "      <th>2</th>\n",
       "      <td>37</td>\n",
       "      <td>M</td>\n",
       "      <td>ATA</td>\n",
       "      <td>130</td>\n",
       "      <td>283</td>\n",
       "      <td>0</td>\n",
       "      <td>ST</td>\n",
       "      <td>98</td>\n",
       "      <td>N</td>\n",
       "      <td>0.0</td>\n",
       "      <td>Up</td>\n",
       "      <td>0</td>\n",
       "    </tr>\n",
       "    <tr>\n",
       "      <th>3</th>\n",
       "      <td>48</td>\n",
       "      <td>F</td>\n",
       "      <td>ASY</td>\n",
       "      <td>138</td>\n",
       "      <td>214</td>\n",
       "      <td>0</td>\n",
       "      <td>Normal</td>\n",
       "      <td>108</td>\n",
       "      <td>Y</td>\n",
       "      <td>1.5</td>\n",
       "      <td>Flat</td>\n",
       "      <td>1</td>\n",
       "    </tr>\n",
       "    <tr>\n",
       "      <th>4</th>\n",
       "      <td>54</td>\n",
       "      <td>M</td>\n",
       "      <td>NAP</td>\n",
       "      <td>150</td>\n",
       "      <td>195</td>\n",
       "      <td>0</td>\n",
       "      <td>Normal</td>\n",
       "      <td>122</td>\n",
       "      <td>N</td>\n",
       "      <td>0.0</td>\n",
       "      <td>Up</td>\n",
       "      <td>0</td>\n",
       "    </tr>\n",
       "  </tbody>\n",
       "</table>\n",
       "</div>"
      ],
      "text/plain": [
       "   Age Sex ChestPainType  RestingBP  Cholesterol  FastingBS RestingECG  MaxHR  \\\n",
       "0   40   M           ATA        140          289          0     Normal    172   \n",
       "1   49   F           NAP        160          180          0     Normal    156   \n",
       "2   37   M           ATA        130          283          0         ST     98   \n",
       "3   48   F           ASY        138          214          0     Normal    108   \n",
       "4   54   M           NAP        150          195          0     Normal    122   \n",
       "\n",
       "  ExerciseAngina  Oldpeak ST_Slope  HeartDisease  \n",
       "0              N      0.0       Up             0  \n",
       "1              N      1.0     Flat             1  \n",
       "2              N      0.0       Up             0  \n",
       "3              Y      1.5     Flat             1  \n",
       "4              N      0.0       Up             0  "
      ]
     },
     "execution_count": 19,
     "metadata": {},
     "output_type": "execute_result"
    }
   ],
   "source": [
    "# Load dataset \n",
    "df = pd.read_csv('Downloads/archive/heart.csv')\n",
    "\n",
    "# Quick overview\n",
    "print(f\"Dataset shape: {df.shape}\")\n",
    "df.head()\n"
   ]
  },
  {
   "cell_type": "markdown",
   "id": "45355835-827b-4666-9458-c627d32e6278",
   "metadata": {},
   "source": [
    "3. Data Preprocessing"
   ]
  },
  {
   "cell_type": "code",
   "execution_count": 20,
   "id": "24882c51-a8f2-4f6c-96d3-71088892cd7a",
   "metadata": {},
   "outputs": [
    {
     "name": "stdout",
     "output_type": "stream",
     "text": [
      "Rows removed (Cholesterol = 0): 172\n",
      "Remaining rows: 746\n",
      "\n",
      "Missing Values:\n",
      " Age               0\n",
      "Sex               0\n",
      "ChestPainType     0\n",
      "RestingBP         0\n",
      "Cholesterol       0\n",
      "FastingBS         0\n",
      "RestingECG        0\n",
      "MaxHR             0\n",
      "ExerciseAngina    0\n",
      "Oldpeak           0\n",
      "ST_Slope          0\n",
      "HeartDisease      0\n",
      "dtype: int64\n",
      "\n",
      "Dataset Description:\n",
      "\n",
      "              Age   RestingBP  Cholesterol   FastingBS       MaxHR  \\\n",
      "count  746.000000  746.000000   746.000000  746.000000  746.000000   \n",
      "mean    52.882038  133.022788   244.635389    0.167560  140.226542   \n",
      "std      9.505888   17.282750    59.153524    0.373726   24.524107   \n",
      "min     28.000000   92.000000    85.000000    0.000000   69.000000   \n",
      "25%     46.000000  120.000000   207.250000    0.000000  122.000000   \n",
      "50%     54.000000  130.000000   237.000000    0.000000  140.000000   \n",
      "75%     59.000000  140.000000   275.000000    0.000000  160.000000   \n",
      "max     77.000000  200.000000   603.000000    1.000000  202.000000   \n",
      "\n",
      "          Oldpeak  HeartDisease  \n",
      "count  746.000000    746.000000  \n",
      "mean     0.901609      0.477212  \n",
      "std      1.072861      0.499816  \n",
      "min     -0.100000      0.000000  \n",
      "25%      0.000000      0.000000  \n",
      "50%      0.500000      0.000000  \n",
      "75%      1.500000      1.000000  \n",
      "max      6.200000      1.000000  \n",
      "Numerical Columns: ['Age', 'RestingBP', 'Cholesterol', 'FastingBS', 'MaxHR', 'Oldpeak']\n",
      "Categorical Columns: ['Sex', 'ChestPainType', 'RestingECG', 'ExerciseAngina', 'ST_Slope']\n"
     ]
    }
   ],
   "source": [
    "initial_rows = df.shape[0]\n",
    "df = df[df['Cholesterol'] > 0]\n",
    "removed_rows = initial_rows - df.shape[0]\n",
    "print(f\"Rows removed (Cholesterol = 0): {removed_rows}\")\n",
    "print(f\"Remaining rows: {df.shape[0]}\")\n",
    "\n",
    "# 3.1 Check for missing values\n",
    "print(\"\\nMissing Values:\\n\", df.isnull().sum())\n",
    "\n",
    "# Basic statistics\n",
    "print(\"\\nDataset Description:\\n\")\n",
    "print(df.describe())\n",
    "\n",
    "# 3.2 Separate features (X) and target (y)\n",
    "X = df.drop('HeartDisease', axis=1)\n",
    "y = df['HeartDisease']\n",
    "\n",
    "# 3.3 Identify numerical and categorical columns\n",
    "numerical_cols = X.select_dtypes(include=['int64', 'float64']).columns\n",
    "categorical_cols = X.select_dtypes(include=['object']).columns\n",
    "\n",
    "print(f\"Numerical Columns: {list(numerical_cols)}\")\n",
    "print(f\"Categorical Columns: {list(categorical_cols)}\")\n"
   ]
  },
  {
   "cell_type": "markdown",
   "id": "5ffda306-987b-4fd5-a359-5b582fabbd1a",
   "metadata": {},
   "source": [
    "4. Preprocessing pipeline"
   ]
  },
  {
   "cell_type": "code",
   "execution_count": 21,
   "id": "8d946952-abb2-451a-8ade-a2515f8550e1",
   "metadata": {},
   "outputs": [
    {
     "name": "stdout",
     "output_type": "stream",
     "text": [
      "Processed Feature Shape: (746, 20)\n"
     ]
    }
   ],
   "source": [
    "# Pipeline for numerical features: impute missing values + scale\n",
    "numerical_pipeline = Pipeline(steps=[\n",
    "    ('imputer', SimpleImputer(strategy='median')),\n",
    "    ('scaler', StandardScaler())\n",
    "])\n",
    "\n",
    "# Pipeline for categorical features: impute + one-hot encode\n",
    "categorical_pipeline = Pipeline(steps=[\n",
    "    ('imputer', SimpleImputer(strategy='most_frequent')),\n",
    "    ('onehot', OneHotEncoder(handle_unknown='ignore'))\n",
    "])\n",
    "\n",
    "# Combine pipelines into a column transformer\n",
    "preprocessor = ColumnTransformer(transformers=[\n",
    "    ('num', numerical_pipeline, numerical_cols),\n",
    "    ('cat', categorical_pipeline, categorical_cols)\n",
    "])\n",
    "\n",
    "# Apply preprocessing\n",
    "X_processed = preprocessor.fit_transform(X)\n",
    "\n",
    "print(f\"Processed Feature Shape: {X_processed.shape}\")\n"
   ]
  },
  {
   "cell_type": "markdown",
   "id": "dc2a9bb3-0d86-47bd-a86f-46bb7952aa20",
   "metadata": {},
   "source": [
    "5. Train-Test Split"
   ]
  },
  {
   "cell_type": "code",
   "execution_count": 22,
   "id": "ad3b6b0b-dc62-4c88-a5c0-35ec814d1564",
   "metadata": {},
   "outputs": [
    {
     "name": "stdout",
     "output_type": "stream",
     "text": [
      "Train set shape: (596, 11)\n",
      "Test set shape: (150, 11)\n"
     ]
    }
   ],
   "source": [
    "# 80% train, 20% test\n",
    "X_train, X_test, y_train, y_test = train_test_split(X, y, test_size=0.2, random_state=42, stratify=y)\n",
    "\n",
    "print(f\"Train set shape: {X_train.shape}\")\n",
    "print(f\"Test set shape: {X_test.shape}\")\n"
   ]
  },
  {
   "cell_type": "markdown",
   "id": "ff76fb43-cfff-47f3-8d2c-89db0438d696",
   "metadata": {},
   "source": [
    "6. Build the Full Pipeline"
   ]
  },
  {
   "cell_type": "code",
   "execution_count": 23,
   "id": "4a508ec9-cb7d-4d1e-a323-1f93e0b4ba6a",
   "metadata": {},
   "outputs": [],
   "source": [
    "# Define the model\n",
    "model = RandomForestClassifier(random_state=42)\n",
    "\n",
    "# Full pipeline: preprocessing + model\n",
    "pipeline = Pipeline(steps=[\n",
    "    ('preprocessor', preprocessor),\n",
    "    ('classifier', model)\n",
    "])\n"
   ]
  },
  {
   "cell_type": "markdown",
   "id": "ddf33958-aa4c-4437-b4a5-c22296c90ea5",
   "metadata": {},
   "source": [
    "7. Cross Validation"
   ]
  },
  {
   "cell_type": "code",
   "execution_count": 24,
   "id": "9e88b5dd-0297-4248-8fe1-02f0ca2327ec",
   "metadata": {},
   "outputs": [
    {
     "name": "stdout",
     "output_type": "stream",
     "text": [
      "Cross Validation Results:\n",
      "Accuracy: 0.8725 (+/- 0.0223)\n",
      "Precision: 0.8420 (+/- 0.0718)\n",
      "Recall: 0.8984 (+/- 0.0383)\n",
      "F1: 0.8669 (+/- 0.0387)\n",
      "Roc_auc: 0.9294 (+/- 0.0080)\n"
     ]
    }
   ],
   "source": [
    "# 5-Fold Cross Validation\n",
    "kfold = KFold(n_splits=5, shuffle=True, random_state=42)\n",
    "\n",
    "# Metrics to evaluate\n",
    "scoring = ['accuracy', 'precision', 'recall', 'f1', 'roc_auc']\n",
    "\n",
    "print(\"Cross Validation Results:\")\n",
    "\n",
    "for metric in scoring:\n",
    "    scores = cross_val_score(pipeline, X_train, y_train, cv=kfold, scoring=metric)\n",
    "    print(f\"{metric.capitalize()}: {scores.mean():.4f} (+/- {scores.std():.4f})\")\n"
   ]
  },
  {
   "cell_type": "markdown",
   "id": "53012b0b-c6b8-44e6-b260-e39b163f37be",
   "metadata": {},
   "source": [
    "8. Train on Full Training Set "
   ]
  },
  {
   "cell_type": "code",
   "execution_count": 25,
   "id": "0fa13ffb-eec2-4112-8f98-3f514cdc856c",
   "metadata": {},
   "outputs": [
    {
     "name": "stdout",
     "output_type": "stream",
     "text": [
      "Model training completed!\n"
     ]
    }
   ],
   "source": [
    "\n",
    "pipeline.fit(X_train, y_train)\n",
    "\n",
    "print(\"Model training completed!\")\n"
   ]
  },
  {
   "cell_type": "markdown",
   "id": "e3265d24-05fb-499e-9579-8008add71999",
   "metadata": {},
   "source": [
    "9. Evaluate on Test Set"
   ]
  },
  {
   "cell_type": "code",
   "execution_count": 26,
   "id": "11b82b73-1c7d-4dcb-b7c7-c6346d95a338",
   "metadata": {},
   "outputs": [
    {
     "name": "stdout",
     "output_type": "stream",
     "text": [
      "\n",
      "Classification Report:\n",
      "\n",
      "              precision    recall  f1-score   support\n",
      "\n",
      "           0       0.89      0.87      0.88        78\n",
      "           1       0.86      0.89      0.88        72\n",
      "\n",
      "    accuracy                           0.88       150\n",
      "   macro avg       0.88      0.88      0.88       150\n",
      "weighted avg       0.88      0.88      0.88       150\n",
      "\n",
      "\n",
      "Confusion Matrix:\n",
      "                 Predicted Negative  Predicted Positive\n",
      "Actual Negative                  68                  10\n",
      "Actual Positive                   8                  64\n"
     ]
    }
   ],
   "source": [
    "# Predict on test set\n",
    "y_pred = pipeline.predict(X_test)\n",
    "\n",
    "# Classification report\n",
    "print(\"\\nClassification Report:\\n\")\n",
    "print(classification_report(y_test, y_pred))\n",
    "\n",
    "# Confusion matrix\n",
    "conf_matrix = confusion_matrix(y_test, y_pred)\n",
    "conf_df = pd.DataFrame(conf_matrix, \n",
    "                       index=['Actual Negative', 'Actual Positive'], \n",
    "                       columns=['Predicted Negative', 'Predicted Positive'])\n",
    "\n",
    "print(\"\\nConfusion Matrix:\")\n",
    "print(conf_df)\n"
   ]
  },
  {
   "cell_type": "markdown",
   "id": "773956c7-6164-412d-b273-89acc268cf4c",
   "metadata": {},
   "source": [
    "10. Plot Confusion Matrix and ROC Curve"
   ]
  },
  {
   "cell_type": "code",
   "execution_count": 27,
   "id": "eb9b3713-9e71-49e1-a8d1-8ff1ddbb5286",
   "metadata": {},
   "outputs": [
    {
     "data": {
      "image/png": "[encoded data removed]",
      "text/plain": [
       "<Figure size 600x500 with 2 Axes>"
      ]
     },
     "metadata": {},
     "output_type": "display_data"
    },
    {
     "data": {
      "image/png": "[encoded data removed]",
      "text/plain": [
       "<Figure size 600x500 with 1 Axes>"
      ]
     },
     "metadata": {},
     "output_type": "display_data"
    }
   ],
   "source": [
    "# Confusion matrix heatmap\n",
    "plt.figure(figsize=(6,5))\n",
    "sns.heatmap(conf_df, annot=True, fmt='d', cmap='Blues')\n",
    "plt.title('Confusion Matrix')\n",
    "plt.xlabel('Predicted')\n",
    "plt.ylabel('Actual')\n",
    "plt.show()\n",
    "\n",
    "# ROC Curve\n",
    "y_prob = pipeline.predict_proba(X_test)[:,1]\n",
    "fpr, tpr, thresholds = roc_curve(y_test, y_prob)\n",
    "roc_auc = auc(fpr, tpr)\n",
    "\n",
    "plt.figure(figsize=(6,5))\n",
    "plt.plot(fpr, tpr, color='darkorange', lw=2, label=f'ROC curve (area = {roc_auc:.2f})')\n",
    "plt.plot([0,1], [0,1], color='navy', linestyle='--')\n",
    "plt.xlabel('False Positive Rate')\n",
    "plt.ylabel('True Positive Rate')\n",
    "plt.title('Receiver Operating Characteristic')\n",
    "plt.legend(loc=\"lower right\")\n",
    "plt.show()\n"
   ]
  },
  {
   "cell_type": "markdown",
   "id": "c5bf8c68-0055-44d9-82b0-ab442aafd1c1",
   "metadata": {},
   "source": [
    "Additional Scores"
   ]
  },
  {
   "cell_type": "code",
   "execution_count": 28,
   "id": "d6cf210f-b979-4d69-a173-33f0d2e3f171",
   "metadata": {},
   "outputs": [
    {
     "name": "stdout",
     "output_type": "stream",
     "text": [
      "Test Accuracy: 0.8800\n",
      "Test Precision: 0.8649\n",
      "Test Recall: 0.8889\n",
      "Test F1 Score: 0.8767\n",
      "Test ROC AUC Score: 0.9374\n"
     ]
    }
   ],
   "source": [
    "from sklearn.metrics import (accuracy_score, precision_score, \n",
    "                             recall_score, f1_score, roc_auc_score)\n",
    "# Additional scores\n",
    "print(f\"Test Accuracy: {accuracy_score(y_test, y_pred):.4f}\")\n",
    "print(f\"Test Precision: {precision_score(y_test, y_pred):.4f}\")\n",
    "print(f\"Test Recall: {recall_score(y_test, y_pred):.4f}\")\n",
    "print(f\"Test F1 Score: {f1_score(y_test, y_pred):.4f}\")\n",
    "print(f\"Test ROC AUC Score: {roc_auc_score(y_test, y_prob):.4f}\")"
   ]
  },
  {
   "cell_type": "code",
   "execution_count": 29,
   "id": "fd65b48f-c6f5-464e-af6c-a9122f692df4",
   "metadata": {},
   "outputs": [
    {
     "name": "stdout",
     "output_type": "stream",
     "text": [
      "Model saved successfully as 'heart_failure_model_RF.pkl'.\n"
     ]
    }
   ],
   "source": [
    "# Save the trained pipeline (preprocessing + model)\n",
    "dump(pipeline, 'heart_failure_model_RF.pkl')\n",
    "\n",
    "print(\"Model saved successfully as 'heart_failure_model_RF.pkl'.\")\n"
   ]
  },
  {
   "cell_type": "code",
   "execution_count": null,
   "id": "0a52689b-c2ad-4610-b52c-f011aeb37356",
   "metadata": {},
   "outputs": [],
   "source": []
  }
 ],
 "metadata": {
  "kernelspec": {
   "display_name": "Python 3 (ipykernel)",
   "language": "python",
   "name": "python3"
  },
  "language_info": {
   "codemirror_mode": {
    "name": "ipython",
    "version": 3
   },
   "file_extension": ".py",
   "mimetype": "text/x-python",
   "name": "python",
   "nbconvert_exporter": "python",
   "pygments_lexer": "ipython3",
   "version": "3.12.7"
  }
 },
 "nbformat": 4,
 "nbformat_minor": 5
}
